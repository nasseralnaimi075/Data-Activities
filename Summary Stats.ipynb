{
  "nbformat": 4,
  "nbformat_minor": 0,
  "metadata": {
    "colab": {
      "provenance": []
    },
    "kernelspec": {
      "name": "ir",
      "display_name": "R"
    },
    "language_info": {
      "name": "R"
    }
  },
  "cells": [
    {
      "cell_type": "code",
      "execution_count": 1,
      "metadata": {
        "colab": {
          "base_uri": "https://localhost:8080/"
        },
        "id": "7MDu_Ml8vKCk",
        "outputId": "5556bf55-b101-46be-a786-0b974bb896fc"
      },
      "outputs": [
        {
          "output_type": "stream",
          "name": "stderr",
          "text": [
            "\n",
            "Attaching package: ‘dplyr’\n",
            "\n",
            "\n",
            "The following objects are masked from ‘package:stats’:\n",
            "\n",
            "    filter, lag\n",
            "\n",
            "\n",
            "The following objects are masked from ‘package:base’:\n",
            "\n",
            "    intersect, setdiff, setequal, union\n",
            "\n",
            "\n"
          ]
        },
        {
          "output_type": "stream",
          "name": "stdout",
          "text": [
            "'data.frame':\t8843 obs. of  32 variables:\n",
            " $ rowlabel : int  137068050 147461190 137116250 147354190 137061230 136898230 135507330 136450220 136111200 136599250 ...\n",
            " $ split    : int  1 3 1 3 3 3 1 2 4 1 ...\n",
            " $ sex      : int  2 2 2 2 2 2 1 2 1 1 ...\n",
            " $ yrsarea  : int  7 6 7 7 7 7 6 5 7 7 ...\n",
            " $ resyrago : int  NA NA 2 NA NA NA NA NA NA NA ...\n",
            " $ work2    : int  1 2 2 1 2 2 1 1 2 2 ...\n",
            " $ tenure1  : int  2 1 4 2 4 1 4 1 1 1 ...\n",
            " $ livharm1 : int  3 1 6 1 6 1 1 1 1 1 ...\n",
            " $ agegrp7  : int  4 5 5 5 6 6 4 5 5 7 ...\n",
            " $ ethgrp2a : int  1 1 1 1 1 1 1 1 1 1 ...\n",
            " $ educat3  : int  4 4 4 2 1 2 1 4 4 3 ...\n",
            " $ rural2   : int  1 2 1 1 2 1 1 1 2 2 ...\n",
            " $ edeprivex: int  2 4 1 1 3 2 1 5 4 5 ...\n",
            " $ wdeprivex: int  NA NA NA NA NA NA NA NA NA NA ...\n",
            " $ IndivWgtx: num  0.543 1.213 0.57 0.994 0.41 ...\n",
            " $ cause2m  : int  NA NA NA NA NA NA NA NA 7 NA ...\n",
            " $ walkdark : int  NA NA NA NA NA NA NA NA 1 NA ...\n",
            " $ walkday  : int  NA NA NA NA NA NA NA NA 1 NA ...\n",
            " $ homealon : int  NA NA NA NA NA NA NA NA 1 NA ...\n",
            " $ wburgl   : int  NA 3 NA 2 2 3 NA NA NA NA ...\n",
            " $ wmugged  : int  NA 4 NA 3 2 4 NA NA NA NA ...\n",
            " $ wcarstol : int  NA NA NA NA NA NA NA 3 NA NA ...\n",
            " $ wfromcar : int  NA NA NA NA NA NA NA 3 NA NA ...\n",
            " $ wraped   : int  NA 4 NA 4 2 4 NA NA NA NA ...\n",
            " $ wattack  : int  NA 4 NA 3 2 3 NA NA NA NA ...\n",
            " $ wraceatt : int  NA 4 NA 4 3 4 NA NA NA NA ...\n",
            " $ worryx   : num  NA -1.132 NA -0.258 1.184 ...\n",
            " $ bcsvictim: int  0 0 0 1 0 0 0 0 0 0 ...\n",
            " $ rubbcomm : int  3 4 3 4 3 4 3 4 4 4 ...\n",
            " $ vandcomm : int  3 4 4 4 3 4 3 4 4 4 ...\n",
            " $ poorhou  : int  3 4 3 4 3 4 3 4 4 4 ...\n",
            " $ antisocx : num  2.065 NA -0.236 NA NA ...\n",
            "  count         mean    median        sd       min      max na_count\n",
            "1  8843 -0.007497532 -0.184597 0.9910673 -1.215267 4.014557     6694\n"
          ]
        }
      ],
      "source": [
        "# Load necessary libraries\n",
        "library(dplyr)\n",
        "\n",
        "# Load the dataset\n",
        "data <- read.csv(\"/content/csew1314teachingopen.csv\")\n",
        "\n",
        "# View the structure of the dataset to identify the 'antisocx' variable\n",
        "str(data)\n",
        "\n",
        "# Summary statistics for the 'antisocx' variable\n",
        "summary_antisocx <- data %>%\n",
        "  summarise(\n",
        "    count = n(),\n",
        "    mean = mean(antisocx, na.rm = TRUE),\n",
        "    median = median(antisocx, na.rm = TRUE),\n",
        "    sd = sd(antisocx, na.rm = TRUE),\n",
        "    min = min(antisocx, na.rm = TRUE),\n",
        "    max = max(antisocx, na.rm = TRUE),\n",
        "    na_count = sum(is.na(antisocx))\n",
        "  )\n",
        "\n",
        "# Print the summary statistics\n",
        "print(summary_antisocx)"
      ]
    }
  ]
}